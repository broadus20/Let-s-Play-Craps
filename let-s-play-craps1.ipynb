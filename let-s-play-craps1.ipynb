{
 "cells": [
  {
   "cell_type": "raw",
   "id": "085018b7",
   "metadata": {
    "_cell_guid": "b1076dfc-b9ad-4769-8c92-a6c4dae69d19",
    "_uuid": "8f2839f25d086af736a60e9eeb907d3b93b6e0e5",
    "papermill": {
     "duration": 0.05226,
     "end_time": "2021-12-02T02:28:00.986694",
     "exception": false,
     "start_time": "2021-12-02T02:28:00.934434",
     "status": "completed"
    },
    "tags": []
   },
   "source": [
    "# This Python 3 environment comes with many helpful analytics libraries installed\n",
    "# It is defined by the kaggle/python Docker image: https://github.com/kaggle/docker-python\n",
    "# For example, here's several helpful packages to load\n",
    "\n",
    "import numpy as np # linear algebra\n",
    "import pandas as pd # data processing, CSV file I/O (e.g. pd.read_csv)\n",
    "\n",
    "# Input data files are available in the read-only \"../input/\" directory\n",
    "# For example, running this (by clicking run or pressing Shift+Enter) will list all files under the input directory\n",
    "\n",
    "import os\n",
    "for dirname, _, filenames in os.walk('/kaggle/input'):\n",
    "    for filename in filenames:\n",
    "        print(os.path.join(dirname, filename))\n",
    "\n",
    "# You can write up to 20GB to the current directory (/kaggle/working/) that gets preserved as output when you create a version using \"Save & Run All\" \n",
    "# You can also write temporary files to /kaggle/temp/, but they won't be saved outside of the current session\n",
    "\n",
    "https://risk-engineering.org/notebook/coins-dice.html\n",
    "https://courses.lumenlearning.com/boundless-statistics/chapter/what-are-the-\n",
    "https://www.statisticshowto.com/probability-and-statistics/probability-main-index/probability-of-a-and-b/\n",
    "\n",
    "chances/#:~:text=The%20general%20probability%20addition%20rule,)%20%2B%20P%20(%20B%20)%20.\n",
    "\n",
    "!pip install joblib"
   ]
  },
  {
   "cell_type": "code",
   "execution_count": 1,
   "id": "0236737f",
   "metadata": {
    "execution": {
     "iopub.execute_input": "2021-12-02T02:28:01.103267Z",
     "iopub.status.busy": "2021-12-02T02:28:01.099124Z",
     "iopub.status.idle": "2021-12-02T02:28:02.026721Z",
     "shell.execute_reply": "2021-12-02T02:28:02.025959Z",
     "shell.execute_reply.started": "2021-12-02T02:27:09.316714Z"
    },
    "papermill": {
     "duration": 0.987171,
     "end_time": "2021-12-02T02:28:02.026931",
     "exception": false,
     "start_time": "2021-12-02T02:28:01.039760",
     "status": "completed"
    },
    "tags": []
   },
   "outputs": [],
   "source": [
    "#from ..usr.lib.craps_utility_script.ipynb import * \n",
    "import pandas as pd\n",
    "import os\n",
    "\n",
    "#Visualization\n",
    "import matplotlib.pyplot as plt\n",
    "import seaborn as sns\n",
    "import numpy as np\n",
    "plt.style.use('ggplot')\n",
    "%matplotlib inline\n"
   ]
  },
  {
   "cell_type": "markdown",
   "id": "e9c50b2d",
   "metadata": {
    "papermill": {
     "duration": 0.049121,
     "end_time": "2021-12-02T02:28:02.125491",
     "exception": false,
     "start_time": "2021-12-02T02:28:02.076370",
     "status": "completed"
    },
    "tags": []
   },
   "source": []
  },
  {
   "cell_type": "markdown",
   "id": "9e8446cc",
   "metadata": {
    "papermill": {
     "duration": 0.048821,
     "end_time": "2021-12-02T02:28:02.223347",
     "exception": false,
     "start_time": "2021-12-02T02:28:02.174526",
     "status": "completed"
    },
    "tags": []
   },
   "source": [
    "# Let's Play Craps\n",
    "This is a notebook to show you different playing strategies when playing craps and your probability in winning\n",
    "\n",
    "First we will need to simulate throwing the dice:\n",
    "\n",
    "\n",
    "\n"
   ]
  },
  {
   "cell_type": "code",
   "execution_count": 2,
   "id": "e9122305",
   "metadata": {
    "execution": {
     "iopub.execute_input": "2021-12-02T02:28:02.325376Z",
     "iopub.status.busy": "2021-12-02T02:28:02.324338Z",
     "iopub.status.idle": "2021-12-02T02:28:02.333851Z",
     "shell.execute_reply": "2021-12-02T02:28:02.334357Z",
     "shell.execute_reply.started": "2021-12-02T02:27:09.327326Z"
    },
    "papermill": {
     "duration": 0.062315,
     "end_time": "2021-12-02T02:28:02.334539",
     "exception": false,
     "start_time": "2021-12-02T02:28:02.272224",
     "status": "completed"
    },
    "tags": []
   },
   "outputs": [
    {
     "data": {
      "text/plain": [
       "[3]"
      ]
     },
     "execution_count": 2,
     "metadata": {},
     "output_type": "execute_result"
    }
   ],
   "source": [
    "import random\n",
    "\n",
    "def throw_dice(n=1):\n",
    "    throws = []\n",
    "    while n > 0:\n",
    "        dieA = random.randint(1,6)\n",
    "        dieB = random.randint(1,6)\n",
    "        throws.append(dieA+dieB)\n",
    "        n-= 1\n",
    "    return throws\n",
    "throw_dice()"
   ]
  },
  {
   "cell_type": "markdown",
   "id": "279a1529",
   "metadata": {
    "papermill": {
     "duration": 0.109886,
     "end_time": "2021-12-02T02:28:02.495404",
     "exception": false,
     "start_time": "2021-12-02T02:28:02.385518",
     "status": "completed"
    },
    "tags": []
   },
   "source": [
    "Since we are using statistical analysis we will want to store our rolls for data we will be using later in this notebook Now any time we throw we want to be sure to append data_throws"
   ]
  },
  {
   "cell_type": "code",
   "execution_count": 3,
   "id": "dfa59894",
   "metadata": {
    "execution": {
     "iopub.execute_input": "2021-12-02T02:28:02.601287Z",
     "iopub.status.busy": "2021-12-02T02:28:02.600245Z",
     "iopub.status.idle": "2021-12-02T02:28:02.605547Z",
     "shell.execute_reply": "2021-12-02T02:28:02.606073Z",
     "shell.execute_reply.started": "2021-12-02T02:27:09.345419Z"
    },
    "papermill": {
     "duration": 0.061937,
     "end_time": "2021-12-02T02:28:02.606294",
     "exception": false,
     "start_time": "2021-12-02T02:28:02.544357",
     "status": "completed"
    },
    "tags": []
   },
   "outputs": [
    {
     "data": {
      "text/plain": [
       "[[4]]"
      ]
     },
     "execution_count": 3,
     "metadata": {},
     "output_type": "execute_result"
    }
   ],
   "source": [
    "data_throws = []\n",
    "data_throws.append(throw_dice())\n",
    "data_throws"
   ]
  },
  {
   "cell_type": "markdown",
   "id": "2487c7c2",
   "metadata": {
    "papermill": {
     "duration": 0.049882,
     "end_time": "2021-12-02T02:28:02.707016",
     "exception": false,
     "start_time": "2021-12-02T02:28:02.657134",
     "status": "completed"
    },
    "tags": []
   },
   "source": [
    "Expected value of a dice roll\n",
    "The expected value of a dice roll is\n",
    "\n",
    "sum_{i=1}^6 i*1/6 = 3.5\n",
    "i=1\n",
    "6,i=1∑i*1/6 = 3.5 \n",
    "\n",
    "That means that if we toss a dice a large number of times, the mean value should converge to 3.5. Let’s check that empirically by running a simulation "
   ]
  },
  {
   "cell_type": "code",
   "execution_count": 4,
   "id": "dfccefa8",
   "metadata": {
    "execution": {
     "iopub.execute_input": "2021-12-02T02:28:02.813651Z",
     "iopub.status.busy": "2021-12-02T02:28:02.812676Z",
     "iopub.status.idle": "2021-12-02T02:28:03.077433Z",
     "shell.execute_reply": "2021-12-02T02:28:03.076896Z",
     "shell.execute_reply.started": "2021-12-02T02:27:09.359478Z"
    },
    "papermill": {
     "duration": 0.318656,
     "end_time": "2021-12-02T02:28:03.077586",
     "exception": false,
     "start_time": "2021-12-02T02:28:02.758930",
     "status": "completed"
    },
    "tags": []
   },
   "outputs": [
    {
     "data": {
      "image/png": "[encoded data removed]",
      "text/plain": [
       "<Figure size 432x288 with 1 Axes>"
      ]
     },
     "metadata": {
      "needs_background": "light"
     },
     "output_type": "display_data"
    }
   ],
   "source": [
    "N = 1000\n",
    "roll = np.zeros(N, dtype=int)\n",
    "expectation = np.zeros(N)\n",
    "for i in range(N):\n",
    "    roll[i] = np.random.randint(1, 7)\n",
    "for i in range(1, N):\n",
    "    expectation[i] = np.mean(roll[0:i])\n",
    "plt.plot(expectation)\n",
    "plt.title(\"Expectation of a dice roll\")\n",
    "plt.show()"
   ]
  },
  {
   "cell_type": "markdown",
   "id": "23d446fb",
   "metadata": {
    "papermill": {
     "duration": 0.050678,
     "end_time": "2021-12-02T02:28:03.178741",
     "exception": false,
     "start_time": "2021-12-02T02:28:03.128063",
     "status": "completed"
    },
    "tags": []
   },
   "source": [
    "# Basic Craps Statistics \n",
    "There are **36** possibilities when rolling 2 dice; **6 to the power of 2** \n",
    "\\\n",
    "Let's evaluate what the likelihood of throwing any number is\n",
    "### Step I: Get all possible sums"
   ]
  },
  {
   "cell_type": "code",
   "execution_count": 5,
   "id": "9a6d4584",
   "metadata": {
    "execution": {
     "iopub.execute_input": "2021-12-02T02:28:03.283802Z",
     "iopub.status.busy": "2021-12-02T02:28:03.282800Z",
     "iopub.status.idle": "2021-12-02T02:28:03.464909Z",
     "shell.execute_reply": "2021-12-02T02:28:03.464221Z",
     "shell.execute_reply.started": "2021-12-02T02:27:09.595598Z"
    },
    "papermill": {
     "duration": 0.236065,
     "end_time": "2021-12-02T02:28:03.465055",
     "exception": false,
     "start_time": "2021-12-02T02:28:03.228990",
     "status": "completed"
    },
    "tags": []
   },
   "outputs": [
    {
     "data": {
      "text/html": [
       "<div>\n",
       "<style scoped>\n",
       "    .dataframe tbody tr th:only-of-type {\n",
       "        vertical-align: middle;\n",
       "    }\n",
       "\n",
       "    .dataframe tbody tr th {\n",
       "        vertical-align: top;\n",
       "    }\n",
       "\n",
       "    .dataframe thead th {\n",
       "        text-align: right;\n",
       "    }\n",
       "</style>\n",
       "<table border=\"1\" class=\"dataframe\">\n",
       "  <thead>\n",
       "    <tr style=\"text-align: right;\">\n",
       "      <th></th>\n",
       "      <th>1</th>\n",
       "      <th>2</th>\n",
       "      <th>3</th>\n",
       "      <th>4</th>\n",
       "      <th>5</th>\n",
       "      <th>6</th>\n",
       "    </tr>\n",
       "  </thead>\n",
       "  <tbody>\n",
       "    <tr>\n",
       "      <th>1</th>\n",
       "      <td>2</td>\n",
       "      <td>3</td>\n",
       "      <td>4</td>\n",
       "      <td>5</td>\n",
       "      <td>6</td>\n",
       "      <td>7</td>\n",
       "    </tr>\n",
       "    <tr>\n",
       "      <th>2</th>\n",
       "      <td>3</td>\n",
       "      <td>4</td>\n",
       "      <td>5</td>\n",
       "      <td>6</td>\n",
       "      <td>7</td>\n",
       "      <td>8</td>\n",
       "    </tr>\n",
       "    <tr>\n",
       "      <th>3</th>\n",
       "      <td>4</td>\n",
       "      <td>5</td>\n",
       "      <td>6</td>\n",
       "      <td>7</td>\n",
       "      <td>8</td>\n",
       "      <td>9</td>\n",
       "    </tr>\n",
       "    <tr>\n",
       "      <th>4</th>\n",
       "      <td>5</td>\n",
       "      <td>6</td>\n",
       "      <td>7</td>\n",
       "      <td>8</td>\n",
       "      <td>9</td>\n",
       "      <td>10</td>\n",
       "    </tr>\n",
       "    <tr>\n",
       "      <th>5</th>\n",
       "      <td>6</td>\n",
       "      <td>7</td>\n",
       "      <td>8</td>\n",
       "      <td>9</td>\n",
       "      <td>10</td>\n",
       "      <td>11</td>\n",
       "    </tr>\n",
       "    <tr>\n",
       "      <th>6</th>\n",
       "      <td>7</td>\n",
       "      <td>8</td>\n",
       "      <td>9</td>\n",
       "      <td>10</td>\n",
       "      <td>11</td>\n",
       "      <td>12</td>\n",
       "    </tr>\n",
       "  </tbody>\n",
       "</table>\n",
       "</div>"
      ],
      "text/plain": [
       "   1  2  3   4   5   6\n",
       "1  2  3  4   5   6   7\n",
       "2  3  4  5   6   7   8\n",
       "3  4  5  6   7   8   9\n",
       "4  5  6  7   8   9  10\n",
       "5  6  7  8   9  10  11\n",
       "6  7  8  9  10  11  12"
      ]
     },
     "execution_count": 5,
     "metadata": {},
     "output_type": "execute_result"
    }
   ],
   "source": [
    "#Step I: Get all possible sums\n",
    "T = 6**2\n",
    "dieA = [1,2,3,4,5,6]\n",
    "dieB = [1,2,3,4,5,6]\n",
    "sums = {}\n",
    "for i in range(len(dieA)):\n",
    "    rolls = []\n",
    "    for j in range(len(dieB)):\n",
    "        rolls.append(dieA[i] + dieB[j])\n",
    "    sums[i] = rolls\n",
    "die_df = pd.DataFrame(sums)\n",
    "die_df.index = ['1','2','3','4','5','6']\n",
    "die_df.columns = ['1','2','3','4','5','6']\n",
    "die_df"
   ]
  },
  {
   "cell_type": "markdown",
   "id": "31678998",
   "metadata": {
    "papermill": {
     "duration": 0.050419,
     "end_time": "2021-12-02T02:28:03.567013",
     "exception": false,
     "start_time": "2021-12-02T02:28:03.516594",
     "status": "completed"
    },
    "tags": []
   },
   "source": [
    "### Step II: Calculate Occurances "
   ]
  },
  {
   "cell_type": "code",
   "execution_count": 6,
   "id": "26f88b73",
   "metadata": {
    "execution": {
     "iopub.execute_input": "2021-12-02T02:28:03.681769Z",
     "iopub.status.busy": "2021-12-02T02:28:03.680903Z",
     "iopub.status.idle": "2021-12-02T02:28:03.685537Z",
     "shell.execute_reply": "2021-12-02T02:28:03.684920Z",
     "shell.execute_reply.started": "2021-12-02T02:27:09.615127Z"
    },
    "papermill": {
     "duration": 0.067926,
     "end_time": "2021-12-02T02:28:03.685687",
     "exception": false,
     "start_time": "2021-12-02T02:28:03.617761",
     "status": "completed"
    },
    "tags": []
   },
   "outputs": [
    {
     "data": {
      "text/plain": [
       "{2: 1, 3: 2, 4: 3, 5: 4, 6: 5, 7: 6, 8: 5, 9: 4, 10: 3, 11: 2, 12: 1}"
      ]
     },
     "execution_count": 6,
     "metadata": {},
     "output_type": "execute_result"
    }
   ],
   "source": [
    "#Step II: Calculate Occurances \n",
    "num_count = {}\n",
    "div ={}\n",
    "for n in die_df.columns:\n",
    "    for val in die_df[n]:\n",
    "        if val in num_count:\n",
    "            num_count[val] += 1\n",
    "        else:\n",
    "            num_count[val] = 1\n",
    "num_count        "
   ]
  },
  {
   "cell_type": "markdown",
   "id": "5f68ac64",
   "metadata": {
    "papermill": {
     "duration": 0.050715,
     "end_time": "2021-12-02T02:28:03.790855",
     "exception": false,
     "start_time": "2021-12-02T02:28:03.740140",
     "status": "completed"
    },
    "tags": []
   },
   "source": [
    "### Step III: Organize and Interprete Data"
   ]
  },
  {
   "cell_type": "code",
   "execution_count": 7,
   "id": "e5e51989",
   "metadata": {
    "execution": {
     "iopub.execute_input": "2021-12-02T02:28:03.906665Z",
     "iopub.status.busy": "2021-12-02T02:28:03.905996Z",
     "iopub.status.idle": "2021-12-02T02:28:03.914493Z",
     "shell.execute_reply": "2021-12-02T02:28:03.915104Z",
     "shell.execute_reply.started": "2021-12-02T02:27:09.640433Z"
    },
    "papermill": {
     "duration": 0.073362,
     "end_time": "2021-12-02T02:28:03.915281",
     "exception": false,
     "start_time": "2021-12-02T02:28:03.841919",
     "status": "completed"
    },
    "tags": []
   },
   "outputs": [
    {
     "data": {
      "text/html": [
       "<div>\n",
       "<style scoped>\n",
       "    .dataframe tbody tr th:only-of-type {\n",
       "        vertical-align: middle;\n",
       "    }\n",
       "\n",
       "    .dataframe tbody tr th {\n",
       "        vertical-align: top;\n",
       "    }\n",
       "\n",
       "    .dataframe thead th {\n",
       "        text-align: right;\n",
       "    }\n",
       "</style>\n",
       "<table border=\"1\" class=\"dataframe\">\n",
       "  <thead>\n",
       "    <tr style=\"text-align: right;\">\n",
       "      <th></th>\n",
       "      <th>%</th>\n",
       "      <th>div</th>\n",
       "    </tr>\n",
       "  </thead>\n",
       "  <tbody>\n",
       "    <tr>\n",
       "      <th>2</th>\n",
       "      <td>2.777778</td>\n",
       "      <td>1/36</td>\n",
       "    </tr>\n",
       "    <tr>\n",
       "      <th>3</th>\n",
       "      <td>5.555556</td>\n",
       "      <td>2/36</td>\n",
       "    </tr>\n",
       "    <tr>\n",
       "      <th>4</th>\n",
       "      <td>8.333333</td>\n",
       "      <td>3/36</td>\n",
       "    </tr>\n",
       "    <tr>\n",
       "      <th>5</th>\n",
       "      <td>11.111111</td>\n",
       "      <td>4/36</td>\n",
       "    </tr>\n",
       "    <tr>\n",
       "      <th>6</th>\n",
       "      <td>13.888889</td>\n",
       "      <td>5/36</td>\n",
       "    </tr>\n",
       "    <tr>\n",
       "      <th>7</th>\n",
       "      <td>16.666667</td>\n",
       "      <td>6/36</td>\n",
       "    </tr>\n",
       "    <tr>\n",
       "      <th>8</th>\n",
       "      <td>13.888889</td>\n",
       "      <td>5/36</td>\n",
       "    </tr>\n",
       "    <tr>\n",
       "      <th>9</th>\n",
       "      <td>11.111111</td>\n",
       "      <td>4/36</td>\n",
       "    </tr>\n",
       "    <tr>\n",
       "      <th>10</th>\n",
       "      <td>8.333333</td>\n",
       "      <td>3/36</td>\n",
       "    </tr>\n",
       "    <tr>\n",
       "      <th>11</th>\n",
       "      <td>5.555556</td>\n",
       "      <td>2/36</td>\n",
       "    </tr>\n",
       "    <tr>\n",
       "      <th>12</th>\n",
       "      <td>2.777778</td>\n",
       "      <td>1/36</td>\n",
       "    </tr>\n",
       "  </tbody>\n",
       "</table>\n",
       "</div>"
      ],
      "text/plain": [
       "            %   div\n",
       "2    2.777778  1/36\n",
       "3    5.555556  2/36\n",
       "4    8.333333  3/36\n",
       "5   11.111111  4/36\n",
       "6   13.888889  5/36\n",
       "7   16.666667  6/36\n",
       "8   13.888889  5/36\n",
       "9   11.111111  4/36\n",
       "10   8.333333  3/36\n",
       "11   5.555556  2/36\n",
       "12   2.777778  1/36"
      ]
     },
     "execution_count": 7,
     "metadata": {},
     "output_type": "execute_result"
    }
   ],
   "source": [
    "#Step III: Organize and Interprete Data\n",
    "count_stat = {}\n",
    "for val in num_count:\n",
    "    count_stat[val] = (num_count[val]/T )*100\n",
    "    div[str(val)] = str(num_count[val]) + '/' + str(T)\n",
    "df =pd.DataFrame(count_stat, index=['%']).transpose()\n",
    "df['div'] = div.values()\n",
    "df"
   ]
  },
  {
   "cell_type": "markdown",
   "id": "e5382678",
   "metadata": {
    "papermill": {
     "duration": 0.052749,
     "end_time": "2021-12-02T02:28:04.020921",
     "exception": false,
     "start_time": "2021-12-02T02:28:03.968172",
     "status": "completed"
    },
    "tags": []
   },
   "source": [
    "Now, we have a finalized dataframe with every possible throwing combo and the likelihood of throwing it. So, what do we see?\n",
    "* 7 is the number with the highest probability of being thrown\n",
    "* 2 & 12 are the least likely\n",
    "* The closer the number is to 7, the better the chances of rolling that number\n",
    "\n",
    "#### Now let's simulate throwing the dice 500 times and test our statistics"
   ]
  },
  {
   "cell_type": "code",
   "execution_count": 8,
   "id": "4a6bd1d9",
   "metadata": {
    "execution": {
     "iopub.execute_input": "2021-12-02T02:28:04.136137Z",
     "iopub.status.busy": "2021-12-02T02:28:04.128012Z",
     "iopub.status.idle": "2021-12-02T02:28:04.686614Z",
     "shell.execute_reply": "2021-12-02T02:28:04.685963Z",
     "shell.execute_reply.started": "2021-12-02T02:27:09.664453Z"
    },
    "papermill": {
     "duration": 0.614174,
     "end_time": "2021-12-02T02:28:04.686753",
     "exception": false,
     "start_time": "2021-12-02T02:28:04.072579",
     "status": "completed"
    },
    "tags": []
   },
   "outputs": [
    {
     "name": "stderr",
     "output_type": "stream",
     "text": [
      "/opt/conda/lib/python3.7/site-packages/seaborn/_decorators.py:43: FutureWarning: Pass the following variable as a keyword arg: x. From version 0.12, the only valid positional argument will be `data`, and passing other arguments without an explicit keyword will result in an error or misinterpretation.\n",
      "  FutureWarning\n",
      "/opt/conda/lib/python3.7/site-packages/seaborn/_decorators.py:43: FutureWarning: Pass the following variable as a keyword arg: x. From version 0.12, the only valid positional argument will be `data`, and passing other arguments without an explicit keyword will result in an error or misinterpretation.\n",
      "  FutureWarning\n",
      "/opt/conda/lib/python3.7/site-packages/seaborn/_decorators.py:43: FutureWarning: Pass the following variable as a keyword arg: x. From version 0.12, the only valid positional argument will be `data`, and passing other arguments without an explicit keyword will result in an error or misinterpretation.\n",
      "  FutureWarning\n"
     ]
    },
    {
     "data": {
      "text/plain": [
       "<AxesSubplot:ylabel='count'>"
      ]
     },
     "execution_count": 8,
     "metadata": {},
     "output_type": "execute_result"
    },
    {
     "data": {
      "image/png": "[encoded data removed]",
      "text/plain": [
       "<Figure size 864x288 with 3 Axes>"
      ]
     },
     "metadata": {
      "needs_background": "light"
     },
     "output_type": "display_data"
    }
   ],
   "source": [
    "d1 = []\n",
    "d2 = []\n",
    "sums = []\n",
    "n=500\n",
    "for i in range(n):\n",
    "    dieA = random.randint(1,6)\n",
    "    dieB = random.randint(1,6)\n",
    "    d1.append(dieA)\n",
    "    d2.append(dieB)\n",
    "    sums.append(dieA+dieB)\n",
    "\n",
    "fig, (ax1, ax2, ax3) = plt.subplots(ncols=3, sharey=True, figsize=(12,4))\n",
    "sns.countplot(d1, ax=ax1)\n",
    "sns.countplot(d2, ax=ax2)\n",
    "sns.countplot(sums, ax=ax3)"
   ]
  },
  {
   "cell_type": "markdown",
   "id": "46ef9fe8",
   "metadata": {
    "papermill": {
     "duration": 0.0529,
     "end_time": "2021-12-02T02:28:04.793054",
     "exception": false,
     "start_time": "2021-12-02T02:28:04.740154",
     "status": "completed"
    },
    "tags": []
   },
   "source": [
    "So we see a lot of variability between the individual die at 500 rolls; however, the sums have nearly the expected distribution\n",
    "\n",
    "#### Let's increase it to 10,000 rolls"
   ]
  },
  {
   "cell_type": "code",
   "execution_count": 9,
   "id": "acfd69d4",
   "metadata": {
    "execution": {
     "iopub.execute_input": "2021-12-02T02:28:04.911328Z",
     "iopub.status.busy": "2021-12-02T02:28:04.910352Z",
     "iopub.status.idle": "2021-12-02T02:28:05.594938Z",
     "shell.execute_reply": "2021-12-02T02:28:05.594280Z",
     "shell.execute_reply.started": "2021-12-02T02:27:10.233996Z"
    },
    "papermill": {
     "duration": 0.747676,
     "end_time": "2021-12-02T02:28:05.595096",
     "exception": false,
     "start_time": "2021-12-02T02:28:04.847420",
     "status": "completed"
    },
    "tags": []
   },
   "outputs": [
    {
     "name": "stderr",
     "output_type": "stream",
     "text": [
      "/opt/conda/lib/python3.7/site-packages/seaborn/_decorators.py:43: FutureWarning: Pass the following variable as a keyword arg: x. From version 0.12, the only valid positional argument will be `data`, and passing other arguments without an explicit keyword will result in an error or misinterpretation.\n",
      "  FutureWarning\n",
      "/opt/conda/lib/python3.7/site-packages/seaborn/_decorators.py:43: FutureWarning: Pass the following variable as a keyword arg: x. From version 0.12, the only valid positional argument will be `data`, and passing other arguments without an explicit keyword will result in an error or misinterpretation.\n",
      "  FutureWarning\n",
      "/opt/conda/lib/python3.7/site-packages/seaborn/_decorators.py:43: FutureWarning: Pass the following variable as a keyword arg: x. From version 0.12, the only valid positional argument will be `data`, and passing other arguments without an explicit keyword will result in an error or misinterpretation.\n",
      "  FutureWarning\n"
     ]
    },
    {
     "data": {
      "text/plain": [
       "<AxesSubplot:ylabel='count'>"
      ]
     },
     "execution_count": 9,
     "metadata": {},
     "output_type": "execute_result"
    },
    {
     "data": {
      "image/png": "[encoded data removed]",
      "text/plain": [
       "<Figure size 864x288 with 3 Axes>"
      ]
     },
     "metadata": {
      "needs_background": "light"
     },
     "output_type": "display_data"
    }
   ],
   "source": [
    "d1 = []\n",
    "d2 = []\n",
    "sums = []\n",
    "n=10000\n",
    "for i in range(n):\n",
    "    dieA = random.randint(1,6)\n",
    "    dieB = random.randint(1,6)\n",
    "    d1.append(dieA)\n",
    "    d2.append(dieB)\n",
    "    sums.append(dieA+dieB)\n",
    "\n",
    "fig, (ax1, ax2, ax3) = plt.subplots(ncols=3, sharey=True, figsize=(12,4))\n",
    "sns.countplot(d1, ax=ax1)\n",
    "sns.countplot(d2, ax=ax2)\n",
    "sns.countplot(sums, ax=ax3)"
   ]
  },
  {
   "cell_type": "markdown",
   "id": "b6613e80",
   "metadata": {
    "papermill": {
     "duration": 0.054762,
     "end_time": "2021-12-02T02:28:05.704671",
     "exception": false,
     "start_time": "2021-12-02T02:28:05.649909",
     "status": "completed"
    },
    "tags": []
   },
   "source": []
  },
  {
   "cell_type": "markdown",
   "id": "289cf733",
   "metadata": {
    "papermill": {
     "duration": 0.053556,
     "end_time": "2021-12-02T02:28:05.812561",
     "exception": false,
     "start_time": "2021-12-02T02:28:05.759005",
     "status": "completed"
    },
    "tags": []
   },
   "source": [
    "That's better. So what does this mean?\n",
    "* Less rolls means that there will be more variance\n",
    "* As the number of rolls n reaches ∞, the distribution will approach our statistical average\n"
   ]
  },
  {
   "cell_type": "code",
   "execution_count": 10,
   "id": "ffa049fa",
   "metadata": {
    "execution": {
     "iopub.execute_input": "2021-12-02T02:28:05.925902Z",
     "iopub.status.busy": "2021-12-02T02:28:05.924918Z",
     "iopub.status.idle": "2021-12-02T02:28:06.275412Z",
     "shell.execute_reply": "2021-12-02T02:28:06.275898Z",
     "shell.execute_reply.started": "2021-12-02T02:27:10.991486Z"
    },
    "papermill": {
     "duration": 0.409339,
     "end_time": "2021-12-02T02:28:06.276075",
     "exception": false,
     "start_time": "2021-12-02T02:28:05.866736",
     "status": "completed"
    },
    "tags": []
   },
   "outputs": [
    {
     "name": "stderr",
     "output_type": "stream",
     "text": [
      "/opt/conda/lib/python3.7/site-packages/seaborn/distributions.py:2619: FutureWarning: `distplot` is a deprecated function and will be removed in a future version. Please adapt your code to use either `displot` (a figure-level function with similar flexibility) or `histplot` (an axes-level function for histograms).\n",
      "  warnings.warn(msg, FutureWarning)\n"
     ]
    },
    {
     "data": {
      "text/plain": [
       "<AxesSubplot:ylabel='Density'>"
      ]
     },
     "execution_count": 10,
     "metadata": {},
     "output_type": "execute_result"
    },
    {
     "data": {
      "image/png": "[encoded data removed]",
      "text/plain": [
       "<Figure size 864x288 with 1 Axes>"
      ]
     },
     "metadata": {
      "needs_background": "light"
     },
     "output_type": "display_data"
    }
   ],
   "source": [
    "fig, (ax1) = plt.subplots(ncols=1, sharey=True, figsize=(12,4))\n",
    "sns.distplot(sums, ax=ax1)"
   ]
  },
  {
   "cell_type": "markdown",
   "id": "70c689e5",
   "metadata": {
    "papermill": {
     "duration": 0.056059,
     "end_time": "2021-12-02T02:28:06.387869",
     "exception": false,
     "start_time": "2021-12-02T02:28:06.331810",
     "status": "completed"
    },
    "tags": []
   },
   "source": [
    "Now that we have our expectations in line, let's play a game!"
   ]
  },
  {
   "cell_type": "markdown",
   "id": "2aa59fd0",
   "metadata": {
    "papermill": {
     "duration": 0.056061,
     "end_time": "2021-12-02T02:28:06.500310",
     "exception": false,
     "start_time": "2021-12-02T02:28:06.444249",
     "status": "completed"
    },
    "tags": []
   },
   "source": [
    "## The Rules of Craps\n",
    "In craps, the main bet (Pass Line) is on whether the shooter (dice-roller) can throw the \"point\" number before a 7 is rolled. The shooter starts the game by throwing 2 dice. The sum becomes the \"point\" number, unless the shooter rolls a 7 or 11 on the come-out roll. Then everyone's bet on the pass line wins even money. If the shooter comes out with a 2, 3, or 12--this is called craps--everyone loses their Pass Line bets.\n",
    "\n",
    "If the shooter rolls any other number, this number becomes the point.\n",
    "\n",
    "Every roll after that is a gamble against a seven. Players with money on the Pass Line bet are hoping the shooter will throw that number before they throw a 7.\n",
    "\n",
    "## The Odds\n",
    "So how badly are the odds stacked against the shooter? "
   ]
  },
  {
   "cell_type": "code",
   "execution_count": 11,
   "id": "11882bf0",
   "metadata": {
    "execution": {
     "iopub.execute_input": "2021-12-02T02:28:06.616274Z",
     "iopub.status.busy": "2021-12-02T02:28:06.615618Z",
     "iopub.status.idle": "2021-12-02T02:28:06.626310Z",
     "shell.execute_reply": "2021-12-02T02:28:06.627226Z",
     "shell.execute_reply.started": "2021-12-02T02:27:11.349287Z"
    },
    "papermill": {
     "duration": 0.071251,
     "end_time": "2021-12-02T02:28:06.627469",
     "exception": false,
     "start_time": "2021-12-02T02:28:06.556218",
     "status": "completed"
    },
    "tags": []
   },
   "outputs": [
    {
     "name": "stdout",
     "output_type": "stream",
     "text": [
      "passline win: 22.222222222222218%\n",
      "dark side win: 8.333333333333332%\n",
      "chance of point: 66.66666666666666%\n"
     ]
    }
   ],
   "source": [
    "df['dec'] = df['%']/100\n",
    "passline = df.loc[7][2] + df.loc[11][2] \n",
    "dark_side = df.loc[2][2] + df.loc[3][2]\n",
    "chance_of_pt = df.loc[4][2]+df.loc[5][2]+df.loc[6][2]+df.loc[8][2]+df.loc[9][2]+df.loc[10][2]\n",
    "print('passline win: {}%\\ndark side win: {}%\\nchance of point: {}%'.format(passline*100, dark_side*100, chance_of_pt*100))"
   ]
  },
  {
   "cell_type": "markdown",
   "id": "a7093c23",
   "metadata": {
    "papermill": {
     "duration": 0.056184,
     "end_time": "2021-12-02T02:28:06.741713",
     "exception": false,
     "start_time": "2021-12-02T02:28:06.685529",
     "status": "completed"
    },
    "tags": []
   },
   "source": [
    "#### Winning by Passline"
   ]
  },
  {
   "cell_type": "code",
   "execution_count": 12,
   "id": "a14f4423",
   "metadata": {
    "execution": {
     "iopub.execute_input": "2021-12-02T02:28:06.864227Z",
     "iopub.status.busy": "2021-12-02T02:28:06.863273Z",
     "iopub.status.idle": "2021-12-02T02:28:06.868742Z",
     "shell.execute_reply": "2021-12-02T02:28:06.868253Z",
     "shell.execute_reply.started": "2021-12-02T02:27:11.362783Z"
    },
    "papermill": {
     "duration": 0.070571,
     "end_time": "2021-12-02T02:28:06.868910",
     "exception": false,
     "start_time": "2021-12-02T02:28:06.798339",
     "status": "completed"
    },
    "tags": []
   },
   "outputs": [
    {
     "name": "stdout",
     "output_type": "stream",
     "text": [
      "Probability of Winning on 6/8: 45.45454545454546% \n",
      "Probability of Winning on 5/9: 40.0% \n",
      "Probability of Winning on 4/10: 33.33333333333333%\n"
     ]
    }
   ],
   "source": [
    "passline_win6 = df.loc[6][2]/(df.loc[7][2]+df.loc[6][2])\n",
    "passline_win5 = df.loc[5][2]/(df.loc[7][2]+df.loc[5][2])\n",
    "passline_win4 = df.loc[4][2]/(df.loc[7][2]+df.loc[4][2])\n",
    "print('Probability of Winning on 6/8: {}%'.format(passline_win6*100),\n",
    "     '\\nProbability of Winning on 5/9: {}%'.format(passline_win5*100),\n",
    "     '\\nProbability of Winning on 4/10: {}%'.format(passline_win4*100))"
   ]
  },
  {
   "cell_type": "markdown",
   "id": "8ed220bc",
   "metadata": {
    "papermill": {
     "duration": 0.056617,
     "end_time": "2021-12-02T02:28:06.983210",
     "exception": false,
     "start_time": "2021-12-02T02:28:06.926593",
     "status": "completed"
    },
    "tags": []
   },
   "source": [
    "#### Probability of Hitting Point or Hitting Passline\n",
    "\n",
    "come_out = 1-(p(2,3,7,11,12)) \n",
    "\\\n",
    "pt6_hit = p(pA/(pA+pB)) = p(6)/(p(6)+p(7))\n",
    "\\\n",
    "pt5_hit = p(pA/(pA+pB)) = p(5)/(p(5)+p(7))\n",
    "\\\n",
    "pt4_hit = p(pA/(pA+pB)) = p(4)/(p(4)+p(7))\n",
    "\\\n",
    "p(hitPoint)+p(comeOutHit)\n"
   ]
  },
  {
   "cell_type": "code",
   "execution_count": 13,
   "id": "8f3bd11e",
   "metadata": {
    "execution": {
     "iopub.execute_input": "2021-12-02T02:28:07.106296Z",
     "iopub.status.busy": "2021-12-02T02:28:07.105563Z",
     "iopub.status.idle": "2021-12-02T02:28:07.110832Z",
     "shell.execute_reply": "2021-12-02T02:28:07.111600Z",
     "shell.execute_reply.started": "2021-12-02T02:27:11.378598Z"
    },
    "papermill": {
     "duration": 0.071179,
     "end_time": "2021-12-02T02:28:07.111863",
     "exception": false,
     "start_time": "2021-12-02T02:28:07.040684",
     "status": "completed"
    },
    "tags": []
   },
   "outputs": [
    {
     "name": "stdout",
     "output_type": "stream",
     "text": [
      "Probability Passline Win: 0.4861952861952862%\n"
     ]
    }
   ],
   "source": [
    "come_out = 1-(df.loc[2][2]*2+df.loc[3][2]*2+df.loc[7][2])\n",
    "pt6_hit = df.loc[6][2]/(df.loc[6][2]+df.loc[7][2])\n",
    "pt5_hit = df.loc[5][2]/(df.loc[5][2]+df.loc[7][2])\n",
    "pt4_hit = df.loc[4][2]/(df.loc[4][2]+df.loc[7][2])\n",
    "pt_hit = ((1-pt6_hit)+(1-pt5_hit)+(1-pt4_hit))/3\n",
    "probability_passline = (come_out*(pt6_hit+pt5_hit+pt4_hit)/3)\n",
    "strategy_passline= probability_passline+passline\n",
    "print('Probability Passline Win: {}%'.format(strategy_passline))"
   ]
  },
  {
   "cell_type": "markdown",
   "id": "72a3f9fc",
   "metadata": {
    "papermill": {
     "duration": 0.057093,
     "end_time": "2021-12-02T02:28:07.227038",
     "exception": false,
     "start_time": "2021-12-02T02:28:07.169945",
     "status": "completed"
    },
    "tags": []
   },
   "source": []
  },
  {
   "cell_type": "markdown",
   "id": "7dc68942",
   "metadata": {
    "papermill": {
     "duration": 0.057207,
     "end_time": "2021-12-02T02:28:07.341880",
     "exception": false,
     "start_time": "2021-12-02T02:28:07.284673",
     "status": "completed"
    },
    "tags": []
   },
   "source": [
    "Once The point is established your chances of winning increases on the dark side\n",
    "\n",
    "We can compute. We get A before B if we get A, or CA, or CCA, or CCCA and so on.\n",
    "\n",
    "The probability of A is p. The probability of CA is rp. The probability of CCA is r2p, and so on. So the required probability is\n",
    "p(1+r+r2+r3+⋯).\n",
    "If r≠1, then by the usual formula for the sum of an infinite geometric series, our probability is p1−r, which is p/(p+q) or A/(A+B)."
   ]
  },
  {
   "cell_type": "code",
   "execution_count": 14,
   "id": "92f29d5e",
   "metadata": {
    "execution": {
     "iopub.execute_input": "2021-12-02T02:28:07.467809Z",
     "iopub.status.busy": "2021-12-02T02:28:07.460290Z",
     "iopub.status.idle": "2021-12-02T02:28:07.472187Z",
     "shell.execute_reply": "2021-12-02T02:28:07.471574Z",
     "shell.execute_reply.started": "2021-12-02T02:27:11.407799Z"
    },
    "papermill": {
     "duration": 0.073084,
     "end_time": "2021-12-02T02:28:07.472343",
     "exception": false,
     "start_time": "2021-12-02T02:28:07.399259",
     "status": "completed"
    },
    "tags": []
   },
   "outputs": [
    {
     "name": "stdout",
     "output_type": "stream",
     "text": [
      "Probability of Winning on 6/8: 54.54545454545454% \n",
      "Probability of Winning on 5/9: 60.0% \n",
      "Probability of Winning on 4/10: 66.66666666666666%\n"
     ]
    }
   ],
   "source": [
    "dark_side_on_win6 = df.loc[7][2]/(df.loc[7][2]+df.loc[6][2])\n",
    "dark_side_on_win5 = df.loc[7][2]/(df.loc[7][2]+df.loc[5][2])\n",
    "dark_side_on_win4 = df.loc[7][2]/(df.loc[7][2]+df.loc[4][2])\n",
    "print('Probability of Winning on 6/8: {}%'.format(dark_side_on_win6*100),\n",
    "     '\\nProbability of Winning on 5/9: {}%'.format(dark_side_on_win5*100),\n",
    "     '\\nProbability of Winning on 4/10: {}%'.format(dark_side_on_win4*100))"
   ]
  },
  {
   "cell_type": "markdown",
   "id": "d295172b",
   "metadata": {
    "papermill": {
     "duration": 0.057517,
     "end_time": "2021-12-02T02:28:07.587739",
     "exception": false,
     "start_time": "2021-12-02T02:28:07.530222",
     "status": "completed"
    },
    "tags": []
   },
   "source": [
    "If we knew we could land a point, our probability of winning would be as follows"
   ]
  },
  {
   "cell_type": "code",
   "execution_count": 15,
   "id": "01a1c264",
   "metadata": {
    "execution": {
     "iopub.execute_input": "2021-12-02T02:28:07.710434Z",
     "iopub.status.busy": "2021-12-02T02:28:07.709529Z",
     "iopub.status.idle": "2021-12-02T02:28:07.713463Z",
     "shell.execute_reply": "2021-12-02T02:28:07.713986Z",
     "shell.execute_reply.started": "2021-12-02T02:27:11.421884Z"
    },
    "papermill": {
     "duration": 0.068612,
     "end_time": "2021-12-02T02:28:07.714175",
     "exception": false,
     "start_time": "2021-12-02T02:28:07.645563",
     "status": "completed"
    },
    "tags": []
   },
   "outputs": [
    {
     "name": "stdout",
     "output_type": "stream",
     "text": [
      "Probability of Winning given 6/8: 62.878787878787875% \n",
      "Probability of Winning given 5/9: 68.33333333333333% \n",
      "Probability of Winning given 4/10: 75.0%\n"
     ]
    }
   ],
   "source": [
    "_dark_side_on_win6 = dark_side+dark_side_on_win6\n",
    "_dark_side_on_win5 = dark_side+dark_side_on_win5 \n",
    "_dark_side_on_win4 = dark_side+dark_side_on_win4\n",
    "print('Probability of Winning given 6/8: {}%'.format(_dark_side_on_win6*100),\n",
    "     '\\nProbability of Winning given 5/9: {}%'.format(_dark_side_on_win5*100),\n",
    "     '\\nProbability of Winning given 4/10: {}%'.format(_dark_side_on_win4*100))"
   ]
  },
  {
   "cell_type": "markdown",
   "id": "ef9359bc",
   "metadata": {
    "papermill": {
     "duration": 0.057584,
     "end_time": "2021-12-02T02:28:07.829549",
     "exception": false,
     "start_time": "2021-12-02T02:28:07.771965",
     "status": "completed"
    },
    "tags": []
   },
   "source": [
    "#### Probability of getting a Point and 7 Outing after:\n",
    "come_out = 1-(p(2,3,7,11,12)) \n",
    "\\\n",
    "pt6_out = p(pA/(pA+pB)) = p(7)/(p(6)+p(7))\n",
    "\\\n",
    "pt5_out = p(pA/(pA+pB)) = p(7)/(p(5)+p(7))\n",
    "\\\n",
    "pt4_out = p(pA/(pA+pB)) = p(7)/(p(4)+p(7))\n",
    "\\\n",
    "p(hitPoint)+p(comeOutHit)"
   ]
  },
  {
   "cell_type": "code",
   "execution_count": 16,
   "id": "d7964a30",
   "metadata": {
    "execution": {
     "iopub.execute_input": "2021-12-02T02:28:07.959257Z",
     "iopub.status.busy": "2021-12-02T02:28:07.958416Z",
     "iopub.status.idle": "2021-12-02T02:28:07.963874Z",
     "shell.execute_reply": "2021-12-02T02:28:07.963086Z",
     "shell.execute_reply.started": "2021-12-02T02:27:11.435379Z"
    },
    "papermill": {
     "duration": 0.07538,
     "end_time": "2021-12-02T02:28:07.964148",
     "exception": false,
     "start_time": "2021-12-02T02:28:07.888768",
     "status": "completed"
    },
    "tags": []
   },
   "outputs": [
    {
     "name": "stdout",
     "output_type": "stream",
     "text": [
      "Probaility Darkside Win: 0.48602693602693603%\n"
     ]
    }
   ],
   "source": [
    "come_out = 1-(df.loc[2][2]*2+df.loc[3][2]*2+df.loc[7][2])\n",
    "pt6_out = df.loc[7][2]/(df.loc[6][2]+df.loc[7][2])\n",
    "pt5_out = df.loc[7][2]/(df.loc[5][2]+df.loc[7][2])\n",
    "pt4_out = df.loc[7][2]/(df.loc[4][2]+df.loc[7][2])\n",
    "pt_hit = ((1-pt6_out)+(1-pt5_out)+(1-pt4_out))/3\n",
    "probability_darkside = (come_out*(pt6_out+pt5_out+pt4_out)/3)\n",
    "strategy_darkside = probability_darkside+dark_side\n",
    "print('Probaility Darkside Win: {}%'.format(strategy_darkside))"
   ]
  },
  {
   "cell_type": "code",
   "execution_count": 17,
   "id": "e86aa39e",
   "metadata": {
    "execution": {
     "iopub.execute_input": "2021-12-02T02:28:08.090661Z",
     "iopub.status.busy": "2021-12-02T02:28:08.089881Z",
     "iopub.status.idle": "2021-12-02T02:28:08.093566Z",
     "shell.execute_reply": "2021-12-02T02:28:08.094070Z",
     "shell.execute_reply.started": "2021-12-02T02:27:11.621532Z"
    },
    "papermill": {
     "duration": 0.070522,
     "end_time": "2021-12-02T02:28:08.094239",
     "exception": false,
     "start_time": "2021-12-02T02:28:08.023717",
     "status": "completed"
    },
    "tags": []
   },
   "outputs": [
    {
     "name": "stdout",
     "output_type": "stream",
     "text": [
      "48.619528619528616 48.602693602693606\n"
     ]
    }
   ],
   "source": [
    "print(strategy_passline*100, strategy_darkside*100)"
   ]
  },
  {
   "cell_type": "markdown",
   "id": "5cfa6f1b",
   "metadata": {
    "papermill": {
     "duration": 0.058203,
     "end_time": "2021-12-02T02:28:08.210513",
     "exception": false,
     "start_time": "2021-12-02T02:28:08.152310",
     "status": "completed"
    },
    "tags": []
   },
   "source": [
    "#### So, what?\n",
    "* Only playing the passline or don't passline will win 48.6% of the time\n",
    "* We are expected to loose ~52% of the time \n",
    "* If a point can be established on the don't passline the odds of winning significantly increase\n",
    "* We need to increase our winning percentage by 2% to have a statistical advantage over the house \n",
    "* We can reject the null hypothesis that net profit should be "
   ]
  },
  {
   "cell_type": "markdown",
   "id": "a983c482",
   "metadata": {
    "papermill": {
     "duration": 0.058074,
     "end_time": "2021-12-02T02:28:08.327950",
     "exception": false,
     "start_time": "2021-12-02T02:28:08.269876",
     "status": "completed"
    },
    "tags": []
   },
   "source": [
    "# Questions: \n",
    "\n",
    "Now we aim to answer some questions:\n",
    "* How many rolls should each player last?\n",
    "    * Should I get out after n rolls?\n",
    "    * Should I get out after n rolls without point?\n",
    "    * Should I get out after n rolls with point?\n",
    "    * Should I get out after n points?\n",
    "* **How Does The 11 Factor In**\n",
    "* Can dice control play a factor? (And can we analytically account for setting the dice + dice control)?\n",
    "* Are there patterns we can identify that may overlook the laws of statistics indicating what number will be next?\n",
    "* Should I play numbers?\n",
    "* Does getting out at a certain number of rolls increase my percent gain? \n",
    "\n"
   ]
  },
  {
   "cell_type": "markdown",
   "id": "09a93a0f",
   "metadata": {
    "papermill": {
     "duration": 0.066524,
     "end_time": "2021-12-02T02:28:08.452520",
     "exception": false,
     "start_time": "2021-12-02T02:28:08.385996",
     "status": "completed"
    },
    "tags": []
   },
   "source": [
    "#### Let's first tackle the question of rolls"
   ]
  },
  {
   "cell_type": "markdown",
   "id": "24420025",
   "metadata": {
    "papermill": {
     "duration": 0.057573,
     "end_time": "2021-12-02T02:28:08.568160",
     "exception": false,
     "start_time": "2021-12-02T02:28:08.510587",
     "status": "completed"
    },
    "tags": []
   },
   "source": [
    "https://www.casinocitytimes.com/donald-catlin/article/how-long-is-a-craps-roll-1240\n",
    "\n",
    "We need to figure out AandB **p(AnB)=p(A)*p(B)** where;\n",
    "\\\n",
    "A is the expected n roles per pass line decision (i.e. establish a point) \n",
    "\\\n",
    "B is the expected n  roles of pass line decision and 7out (i.e. point was not hit)\n",
    "\n",
    "Because of the independence of the trials, when I face this second trial the number of trials until failure I expect from this point is the same as the number I faced at the first trial\n",
    "\\\n",
    "If success is hitting any number but n\n",
    "\\\n",
    "Failure on first trial occures with frequency q\n",
    "\\\n",
    "Success on first trial occures with frequency p \n",
    "\\\n",
    "epoch e\n",
    "\\\n",
    "e = q + p(1 + e); Recalling that p = 1 - q\n",
    "\\\n",
    "e = q + (1 - q)(1 + e); multiplying out we get\n",
    "\\\n",
    "e = q + 1 - q + e - qe; -e\n",
    "\\\n",
    "**e = 1/q**"
   ]
  },
  {
   "cell_type": "code",
   "execution_count": 18,
   "id": "caa2839a",
   "metadata": {
    "execution": {
     "iopub.execute_input": "2021-12-02T02:28:08.701344Z",
     "iopub.status.busy": "2021-12-02T02:28:08.700608Z",
     "iopub.status.idle": "2021-12-02T02:28:08.707414Z",
     "shell.execute_reply": "2021-12-02T02:28:08.707929Z",
     "shell.execute_reply.started": "2021-12-02T02:27:11.640948Z"
    },
    "papermill": {
     "duration": 0.082119,
     "end_time": "2021-12-02T02:28:08.708099",
     "exception": false,
     "start_time": "2021-12-02T02:28:08.625980",
     "status": "completed"
    },
    "tags": []
   },
   "outputs": [
    {
     "name": "stdout",
     "output_type": "stream",
     "text": [
      "        prob    exRoll      prod       sum\n",
      "0   0.333333  1.000000  0.333333  0.333333\n",
      "4   0.083333  5.000000  0.416667  0.750000\n",
      "5   0.111111  4.600000  0.511111  1.261111\n",
      "6   0.138889  4.272727  0.593434  1.854545\n",
      "8   0.138889  4.272727  0.593434  2.447980\n",
      "9   0.111111  4.600000  0.511111  2.959091\n",
      "10  0.083333  5.000000  0.416667  3.375758 \n",
      "Expected n rolls is 3.3757575757575755\n"
     ]
    }
   ],
   "source": [
    "expectedRolls = {}\n",
    "i = []\n",
    "pt = [0,4,5,6,8,9,10]\n",
    "expectedRolls['pt'] = pt\n",
    "prob = [df.loc[2][2]*2+df.loc[3][2]*2+df.loc[7][2],df.loc[4][2], df.loc[5][2], df.loc[6][2],df.loc[8][2],df.loc[9][2],df.loc[10][2]]\n",
    "expected_rolls = [1, (1 + 36/9), (1 + 36/10), (1 + 36/11), (1 + 36/11), (1 + 36/10), (1 + 36/9)]\n",
    "expectedRolls['prob'] = prob\n",
    "expectedRolls['estRoll'] = expected_rolls\n",
    "for item_num in range(len(expected_rolls)):\n",
    "    i.append(expected_rolls[item_num]*prob[item_num])\n",
    "expectedRolls['prod'] = i\n",
    "rolls_df = pd.DataFrame()\n",
    "rolls_df.index = pt\n",
    "rolls_df['prob'] = expectedRolls['prob']\n",
    "rolls_df['exRoll'] = expectedRolls['estRoll']\n",
    "rolls_df['prod'] = expectedRolls['prod']\n",
    "rolls_df['sum'] = rolls_df['prod'].cumsum()\n",
    "x_pt= rolls_df.iloc[-1,3]\n",
    "print(rolls_df, \"\\nExpected n rolls is {}\".format(x_pt))"
   ]
  },
  {
   "cell_type": "markdown",
   "id": "8e7bb95d",
   "metadata": {
    "papermill": {
     "duration": 0.057999,
     "end_time": "2021-12-02T02:28:08.824409",
     "exception": false,
     "start_time": "2021-12-02T02:28:08.766410",
     "status": "completed"
    },
    "tags": []
   },
   "source": [
    "Since 1 = 165/165, the total is (165 + 392)/165 or 557/165\n",
    "\\\n",
    "**A ~ 3.376 Rolls**\n",
    "\\\n",
    "Next we want to determine the number of Pass Line decisions per seven out\n",
    "\n",
    "A Point made is a success; a seven out is a failure. So we need to calculate q, the probability that a seven out occurs given that a Pass Line decision is reached.\n",
    "\n",
    "All you have to do is add up all of the probabilities for a seven out on each of the six possible points. \n",
    "\n",
    "p(p[7]/(p[7]+p[h])+p[7]/(p[7]+p[4]))+p(p[7]/(p[7]+p[5]))+p(p[7]/(p[7]+p[6]))+p(p[7]/(p[7]+p[8]))+p(p[7]/(p[7]+p[9]))+p(p[7]/(p[7]+p[10]))\n",
    "\n",
    "The result is 784/1980 or 196/495. It follows that the expected number of Pass Line decisions per seven out is 495/196 or approximately **B~2.5255**.\n"
   ]
  },
  {
   "cell_type": "code",
   "execution_count": 19,
   "id": "82ad275b",
   "metadata": {
    "execution": {
     "iopub.execute_input": "2021-12-02T02:28:08.946573Z",
     "iopub.status.busy": "2021-12-02T02:28:08.945949Z",
     "iopub.status.idle": "2021-12-02T02:28:08.959544Z",
     "shell.execute_reply": "2021-12-02T02:28:08.958769Z",
     "shell.execute_reply.started": "2021-12-02T02:27:11.666927Z"
    },
    "papermill": {
     "duration": 0.076315,
     "end_time": "2021-12-02T02:28:08.959730",
     "exception": false,
     "start_time": "2021-12-02T02:28:08.883415",
     "status": "completed"
    },
    "tags": []
   },
   "outputs": [
    {
     "name": "stdout",
     "output_type": "stream",
     "text": [
      "Expected n rolls is: 2.038095238095238\n"
     ]
    }
   ],
   "source": [
    "ph_ = df.loc[2][2] + df.loc[3][2] + df.loc[11][2] + df.loc[12][2] \n",
    "p7_ = df.loc[3][2]\n",
    "p4_ = df.loc[4][2]\n",
    "p5_ = df.loc[5][2]\n",
    "p6_ = df.loc[6][2]\n",
    "p8_ = df.loc[8][2]\n",
    "p9_ = df.loc[9][2]\n",
    "p10_ = df.loc[10][2]\n",
    "pm= ((p7_ /(p7_ + p4_))+(p7_ /(p7_ + p5_))+(p7_ /(p7_ + p6_))+(p7_/(p7_+p8_))+(p7_/(p7_+p9_))+(p7_/(p7_+p10_)))\n",
    "print('Expected n rolls is: {}'.format(pm))"
   ]
  },
  {
   "cell_type": "markdown",
   "id": "223373da",
   "metadata": {
    "papermill": {
     "duration": 0.06611,
     "end_time": "2021-12-02T02:28:09.086912",
     "exception": false,
     "start_time": "2021-12-02T02:28:09.020802",
     "status": "completed"
    },
    "tags": []
   },
   "source": [
    "We lost some accuracy **~.0025%** when transitioning from decimals to fractions and back"
   ]
  },
  {
   "cell_type": "code",
   "execution_count": 20,
   "id": "7aa9a0e8",
   "metadata": {
    "execution": {
     "iopub.execute_input": "2021-12-02T02:28:09.229282Z",
     "iopub.status.busy": "2021-12-02T02:28:09.228259Z",
     "iopub.status.idle": "2021-12-02T02:28:09.232635Z",
     "shell.execute_reply": "2021-12-02T02:28:09.231872Z",
     "shell.execute_reply.started": "2021-12-02T02:27:11.683968Z"
    },
    "papermill": {
     "duration": 0.070638,
     "end_time": "2021-12-02T02:28:09.232875",
     "exception": false,
     "start_time": "2021-12-02T02:28:09.162237",
     "status": "completed"
    },
    "tags": []
   },
   "outputs": [
    {
     "name": "stdout",
     "output_type": "stream",
     "text": [
      "Expected n rolls is 2.5255102040816326\n"
     ]
    }
   ],
   "source": [
    "x_pl = 495/196 \n",
    "print(\"Expected n rolls is {}\".format(x_pl))"
   ]
  },
  {
   "cell_type": "markdown",
   "id": "ec57acd8",
   "metadata": {
    "papermill": {
     "duration": 0.059656,
     "end_time": "2021-12-02T02:28:09.359261",
     "exception": false,
     "start_time": "2021-12-02T02:28:09.299605",
     "status": "completed"
    },
    "tags": []
   },
   "source": [
    "enr = 557/165 rolls/Pass Line decision x 495/196 Pass Line decisions/seven 0ut\n",
    "\\\n",
    "or enr = 1671/196 rolls/seven out\n",
    "\\\n",
    "The number is ~8.5255"
   ]
  },
  {
   "cell_type": "code",
   "execution_count": 21,
   "id": "dba3f512",
   "metadata": {
    "execution": {
     "iopub.execute_input": "2021-12-02T02:28:09.494560Z",
     "iopub.status.busy": "2021-12-02T02:28:09.492042Z",
     "iopub.status.idle": "2021-12-02T02:28:09.497936Z",
     "shell.execute_reply": "2021-12-02T02:28:09.498655Z",
     "shell.execute_reply.started": "2021-12-02T02:27:11.701541Z"
    },
    "papermill": {
     "duration": 0.071026,
     "end_time": "2021-12-02T02:28:09.498890",
     "exception": false,
     "start_time": "2021-12-02T02:28:09.427864",
     "status": "completed"
    },
    "tags": []
   },
   "outputs": [
    {
     "name": "stdout",
     "output_type": "stream",
     "text": [
      "Total expected rolls are: 8.525510204081632\n"
     ]
    }
   ],
   "source": [
    "enr= x_pl * x_pt\n",
    "print(\"Total expected rolls are: {}\".format(enr))"
   ]
  },
  {
   "cell_type": "markdown",
   "id": "2584eb86",
   "metadata": {
    "papermill": {
     "duration": 0.059109,
     "end_time": "2021-12-02T02:28:09.618387",
     "exception": false,
     "start_time": "2021-12-02T02:28:09.559278",
     "status": "completed"
    },
    "tags": []
   },
   "source": [
    "# Craps Simulation\n",
    "\n",
    "Next we need to simulate the board\n",
    "\n",
    "In order to save time I found a suffient board already coded on github\n",
    "https://github.com/mhegarty/craps/blob/master/craps/models.py\n",
    "\n",
    "Since this notebook focuses on strategy and stratistics I am going to follow his notebook to simulate gameplay"
   ]
  },
  {
   "cell_type": "code",
   "execution_count": 22,
   "id": "a4b830e3",
   "metadata": {
    "execution": {
     "iopub.execute_input": "2021-12-02T02:28:09.741218Z",
     "iopub.status.busy": "2021-12-02T02:28:09.740240Z",
     "iopub.status.idle": "2021-12-02T02:28:20.899785Z",
     "shell.execute_reply": "2021-12-02T02:28:20.900465Z",
     "shell.execute_reply.started": "2021-12-02T02:27:11.715603Z"
    },
    "papermill": {
     "duration": 11.22264,
     "end_time": "2021-12-02T02:28:20.900699",
     "exception": false,
     "start_time": "2021-12-02T02:28:09.678059",
     "status": "completed"
    },
    "tags": []
   },
   "outputs": [
    {
     "name": "stdout",
     "output_type": "stream",
     "text": [
      "Collecting craps\r\n",
      "  Downloading craps-2.0.2-py3-none-any.whl (19 kB)\r\n",
      "Requirement already satisfied: appdirs in /opt/conda/lib/python3.7/site-packages (from craps) (1.4.4)\r\n",
      "Installing collected packages: craps\r\n",
      "Successfully installed craps-2.0.2\r\n",
      "\u001b[33mWARNING: Running pip as the 'root' user can result in broken permissions and conflicting behaviour with the system package manager. It is recommended to use a virtual environment instead: https://pip.pypa.io/warnings/venv\u001b[0m\r\n"
     ]
    }
   ],
   "source": [
    "!pip install craps --upgrade\n",
    "from craps import Game, PassBet, LineOddsBet, ComeBet, PointOddsBet"
   ]
  },
  {
   "cell_type": "markdown",
   "id": "54276da9",
   "metadata": {
    "papermill": {
     "duration": 0.061417,
     "end_time": "2021-12-02T02:28:21.025495",
     "exception": false,
     "start_time": "2021-12-02T02:28:20.964078",
     "status": "completed"
    },
    "tags": []
   },
   "source": [
    "#### Play a short game"
   ]
  },
  {
   "cell_type": "code",
   "execution_count": 23,
   "id": "cedd460a",
   "metadata": {
    "execution": {
     "iopub.execute_input": "2021-12-02T02:28:21.157558Z",
     "iopub.status.busy": "2021-12-02T02:28:21.156490Z",
     "iopub.status.idle": "2021-12-02T02:28:21.172783Z",
     "shell.execute_reply": "2021-12-02T02:28:21.172141Z",
     "shell.execute_reply.started": "2021-12-02T02:27:21.257620Z"
    },
    "papermill": {
     "duration": 0.084618,
     "end_time": "2021-12-02T02:28:21.172965",
     "exception": false,
     "start_time": "2021-12-02T02:28:21.088347",
     "status": "completed"
    },
    "tags": []
   },
   "outputs": [
    {
     "name": "stderr",
     "output_type": "stream",
     "text": [
      "[Table] Welcome to the table shooter!\n",
      "[Bet] You made a PassBet on the box for 10\n",
      "[Rail] You have 90.0 on the rail\n",
      "[Table] The shooter is ready, the point is off\n",
      "[Table] PassBet for 10 is working on the box\n",
      "[Roll] Shooter rolled 8\n",
      "[Roll] The point is 8\n",
      "[Rail] You have 90.0 on the rail\n"
     ]
    }
   ],
   "source": [
    "# Start a game with arrival cash $100 and table minimum bet of $10\n",
    "g = Game(bankroll=100, minimum_bet=10)\n",
    "\n",
    "# Make a pass bet for $10\n",
    "g.bet(PassBet(10))\n",
    "\n",
    "# Roll the dice\n",
    "g.roll()"
   ]
  },
  {
   "cell_type": "code",
   "execution_count": 24,
   "id": "8326394d",
   "metadata": {
    "execution": {
     "iopub.execute_input": "2021-12-02T02:28:21.306286Z",
     "iopub.status.busy": "2021-12-02T02:28:21.305264Z",
     "iopub.status.idle": "2021-12-02T02:28:21.313064Z",
     "shell.execute_reply": "2021-12-02T02:28:21.313559Z",
     "shell.execute_reply.started": "2021-12-02T02:27:21.281411Z"
    },
    "papermill": {
     "duration": 0.077056,
     "end_time": "2021-12-02T02:28:21.313729",
     "exception": false,
     "start_time": "2021-12-02T02:28:21.236673",
     "status": "completed"
    },
    "tags": []
   },
   "outputs": [
    {
     "name": "stderr",
     "output_type": "stream",
     "text": [
      "[Bet] You made a LineOddsBet on 8 for 20\n",
      "[Rail] You have 70.0 on the rail\n",
      "[Bet] You made a ComeBet on the box for 10\n",
      "[Rail] You have 60.0 on the rail\n"
     ]
    }
   ],
   "source": [
    "# The puck is on, put a $20 odds bet on the pass line bet.\n",
    "g.bet(LineOddsBet(20))\n",
    "\n",
    "# Place a come bet as well.\n",
    "g.bet(ComeBet(10)) "
   ]
  },
  {
   "cell_type": "code",
   "execution_count": 25,
   "id": "a98aabe9",
   "metadata": {
    "execution": {
     "iopub.execute_input": "2021-12-02T02:28:21.450000Z",
     "iopub.status.busy": "2021-12-02T02:28:21.449190Z",
     "iopub.status.idle": "2021-12-02T02:28:21.463754Z",
     "shell.execute_reply": "2021-12-02T02:28:21.463213Z",
     "shell.execute_reply.started": "2021-12-02T02:27:21.296961Z"
    },
    "papermill": {
     "duration": 0.085286,
     "end_time": "2021-12-02T02:28:21.463911",
     "exception": false,
     "start_time": "2021-12-02T02:28:21.378625",
     "status": "completed"
    },
    "tags": []
   },
   "outputs": [
    {
     "name": "stderr",
     "output_type": "stream",
     "text": [
      "[Table] The shooter is ready, the point is 8\n",
      "[Table] PassBet for 10 is working on 8\n",
      "[Table] LineOddsBet for 20 is working on 8\n",
      "[Table] ComeBet for 10 is working on the box\n",
      "[Roll] Shooter rolled 8\n",
      "[Roll] Winner!!, 8\n",
      "[Payout] PassBet on 8 paid out 20\n",
      "[Payout] LineOddsBet on 8 paid out 44.0\n",
      "[Bet] ComeBet for 10 was moved to the 8\n",
      "[Rail] You have 124.0 on the rail\n"
     ]
    }
   ],
   "source": [
    "# Our bets are placed. Roll!\n",
    "g.roll()"
   ]
  },
  {
   "cell_type": "code",
   "execution_count": 26,
   "id": "7688913b",
   "metadata": {
    "execution": {
     "iopub.execute_input": "2021-12-02T02:28:21.605608Z",
     "iopub.status.busy": "2021-12-02T02:28:21.604634Z",
     "iopub.status.idle": "2021-12-02T02:28:21.609277Z",
     "shell.execute_reply": "2021-12-02T02:28:21.608202Z",
     "shell.execute_reply.started": "2021-12-02T02:27:21.328735Z"
    },
    "papermill": {
     "duration": 0.077816,
     "end_time": "2021-12-02T02:28:21.609433",
     "exception": false,
     "start_time": "2021-12-02T02:28:21.531617",
     "status": "completed"
    },
    "tags": []
   },
   "outputs": [
    {
     "name": "stderr",
     "output_type": "stream",
     "text": [
      "[Table] ComeBet for 10 is working on 8\n"
     ]
    }
   ],
   "source": [
    "# Check your bets\n",
    "g.callout()"
   ]
  },
  {
   "cell_type": "markdown",
   "id": "79dc53d2",
   "metadata": {
    "papermill": {
     "duration": 0.067507,
     "end_time": "2021-12-02T02:28:21.745192",
     "exception": false,
     "start_time": "2021-12-02T02:28:21.677685",
     "status": "completed"
    },
    "tags": []
   },
   "source": [
    "# 3. Working with betting algorithms\n",
    "## Example: Three Point Molly\n",
    "### The Three Point Molly strategy is a neat way to play craps. Some people have suggested that playing this strategy gives the house its lowest edge of any game in the casino. The strategy consists of playing the line and making successive come bets until you have three points \"covered\".\n",
    "\n",
    "The algorithm in psudo code should do the following, where points_covered is the count of numbers for which you have bets placed.\n",
    "\n",
    "1. If it is a come out roll, then make a PassBet and roll\n",
    "2. Else, for any other roll.\n",
    "* If you don't already have odds on your pass bet, then add them with a LineOddsBet\n",
    "* If you have a come bet that has been moved to a point but does not yet have odds, then add odds by making a PointOddsBet on that point.\n",
    "* If you have less than three points_covered, then make a ComeBet\n",
    "* Finally, roll\n",
    "\n",
    "## Setting up parameters for a simulation"
   ]
  },
  {
   "cell_type": "code",
   "execution_count": 27,
   "id": "4a801b14",
   "metadata": {
    "execution": {
     "iopub.execute_input": "2021-12-02T02:28:21.887944Z",
     "iopub.status.busy": "2021-12-02T02:28:21.887212Z",
     "iopub.status.idle": "2021-12-02T02:28:21.889760Z",
     "shell.execute_reply": "2021-12-02T02:28:21.889159Z",
     "shell.execute_reply.started": "2021-12-02T02:27:21.336111Z"
    },
    "papermill": {
     "duration": 0.076355,
     "end_time": "2021-12-02T02:28:21.889947",
     "exception": false,
     "start_time": "2021-12-02T02:28:21.813592",
     "status": "completed"
    },
    "tags": []
   },
   "outputs": [],
   "source": [
    "# Setting up parameters for a simulation.\n",
    "arrival_cash   = 1000 # How much are you bringing to the table?\n",
    "rolls          = 100  # How many rolls to play?\n",
    "bet_unit       = 10   # How much to bet on line bets and come bets?\n",
    "x_odds         = 2    # How much odds to bet (typical casino limit is 10x)"
   ]
  },
  {
   "cell_type": "markdown",
   "id": "210aa5cc",
   "metadata": {
    "papermill": {
     "duration": 0.06826,
     "end_time": "2021-12-02T02:28:22.028381",
     "exception": false,
     "start_time": "2021-12-02T02:28:21.960121",
     "status": "completed"
    },
    "tags": []
   },
   "source": [
    "### Attributes of the Game class.\n",
    "The Game and Bet class docstrings describe a number of attributes that are helpful for building a betting algo.\n",
    "\n",
    "We'll use Game.puck, Game.unsettled_bets, and the Bet.point attributes when building the three point molly."
   ]
  },
  {
   "cell_type": "code",
   "execution_count": 28,
   "id": "0a0836ee",
   "metadata": {
    "execution": {
     "iopub.execute_input": "2021-12-02T02:28:22.194148Z",
     "iopub.status.busy": "2021-12-02T02:28:22.188693Z",
     "iopub.status.idle": "2021-12-02T02:28:22.241747Z",
     "shell.execute_reply": "2021-12-02T02:28:22.241152Z",
     "shell.execute_reply.started": "2021-12-02T02:27:21.349667Z"
    },
    "papermill": {
     "duration": 0.143553,
     "end_time": "2021-12-02T02:28:22.241937",
     "exception": false,
     "start_time": "2021-12-02T02:28:22.098384",
     "status": "completed"
    },
    "tags": []
   },
   "outputs": [],
   "source": [
    "Game?"
   ]
  },
  {
   "cell_type": "markdown",
   "id": "b3ced1ae",
   "metadata": {
    "papermill": {
     "duration": 0.067663,
     "end_time": "2021-12-02T02:28:22.379033",
     "exception": false,
     "start_time": "2021-12-02T02:28:22.311370",
     "status": "completed"
    },
    "tags": []
   },
   "source": [
    "### Translating psudo code to python"
   ]
  },
  {
   "cell_type": "code",
   "execution_count": 29,
   "id": "5a9fbbe9",
   "metadata": {
    "execution": {
     "iopub.execute_input": "2021-12-02T02:28:22.546882Z",
     "iopub.status.busy": "2021-12-02T02:28:22.545983Z",
     "iopub.status.idle": "2021-12-02T02:28:22.555485Z",
     "shell.execute_reply": "2021-12-02T02:28:22.556010Z",
     "shell.execute_reply.started": "2021-12-02T02:27:21.369493Z"
    },
    "papermill": {
     "duration": 0.107776,
     "end_time": "2021-12-02T02:28:22.556211",
     "exception": false,
     "start_time": "2021-12-02T02:28:22.448435",
     "status": "completed"
    },
    "tags": []
   },
   "outputs": [],
   "source": [
    "# Building the algo for the Three Point Molly strategy\n",
    "# Following the psudo code as a guide, we write the logic to step through before each roll. \n",
    "def betting_algo(g):\n",
    "    \n",
    "    # If it is a come out roll, then make a PassBet\n",
    "    # ie. If the puck is off and I have no line bet placed, make a pass bet\n",
    "    passbets = [bet for bet in g.unsettled_bets if (type(bet) is PassBet)]\n",
    "    if (not g.puck) and (len(passbets)==0):\n",
    "        g.bet(PassBet(bet_unit))\n",
    "\n",
    "    # If you don't already have odds on your pass bet, then add them with a LineOddsBet\n",
    "    # ie. If the puck is on but no odds on the line, make an odds bet\n",
    "    lineoddsbets = [bet for bet in g.unsettled_bets if (type(bet) is LineOddsBet)]\n",
    "    if (g.puck) and (len(lineoddsbets)==0):\n",
    "            g.bet(LineOddsBet(bet_unit*x_odds))  # bet the line odds\n",
    "\n",
    "    # If you have a come bet that has been moved to a point but does not yet have odds, \n",
    "    #    then add odds by making a PointOddsBet on that point.    \n",
    "    # ie. If the puck is on and I have a come bet on point but no odds, bet the odds\n",
    "    if g.puck:\n",
    "        set_come_bets = [bet for bet in g.unsettled_bets if (type(bet) is ComeBet) and (bet.point)]\n",
    "        for comeBet in set_come_bets:\n",
    "            odds = [bet for bet in g.unsettled_bets if (type(bet) is PointOddsBet) and (bet.point == comeBet.point)]\n",
    "            if not any(odds):\n",
    "                g.bet(PointOddsBet(bet_unit*x_odds, comeBet.point))\n",
    "\n",
    "    # If you have less than three `points_covered`, then make a `ComeBet`\n",
    "    # ie. If the point is set, and no comebet, and I have less than 3 points, place a come bet\n",
    "    if g.puck:\n",
    "        set_comebets   = [bet for bet in g.unsettled_bets if (type(bet) is ComeBet) and (bet.point)]\n",
    "        unset_comebet  = [bet for bet in g.unsettled_bets if (type(bet) is ComeBet) and (not bet.point)]\n",
    "        if (g.puck) and (not any(unset_comebet)) and (len(set_comebets) < 2):\n",
    "            g.bet(ComeBet(bet_unit))"
   ]
  },
  {
   "cell_type": "markdown",
   "id": "4338929b",
   "metadata": {
    "papermill": {
     "duration": 0.067221,
     "end_time": "2021-12-02T02:28:22.691619",
     "exception": false,
     "start_time": "2021-12-02T02:28:22.624398",
     "status": "completed"
    },
    "tags": []
   },
   "source": [
    "### Initialize a Game and run the betting algo for a sequence of rolls."
   ]
  },
  {
   "cell_type": "code",
   "execution_count": 30,
   "id": "cfeea5bd",
   "metadata": {
    "execution": {
     "iopub.execute_input": "2021-12-02T02:28:22.831778Z",
     "iopub.status.busy": "2021-12-02T02:28:22.831112Z",
     "iopub.status.idle": "2021-12-02T02:28:22.838695Z",
     "shell.execute_reply": "2021-12-02T02:28:22.839197Z",
     "shell.execute_reply.started": "2021-12-02T02:27:21.385026Z"
    },
    "papermill": {
     "duration": 0.080027,
     "end_time": "2021-12-02T02:28:22.839377",
     "exception": false,
     "start_time": "2021-12-02T02:28:22.759350",
     "status": "completed"
    },
    "tags": []
   },
   "outputs": [],
   "source": [
    "# Now build a game simulation function that uses the above betting algo. \n",
    "def simulate_game(rolls=rolls, loglevel=50):\n",
    "    \"\"\"Simulates a game of craps. Optionally pass a loglevel to control stream\"\"\"\n",
    "    g = Game(loglevel=loglevel)\n",
    "    # Make rolls\n",
    "    for n in range(rolls):  # Using the number of rolls defined in the game parameters earlier.\n",
    "        betting_algo(g)\n",
    "        g.roll()\n",
    "    # Return the comleted game history\n",
    "    return g.history"
   ]
  },
  {
   "cell_type": "markdown",
   "id": "d2444650",
   "metadata": {
    "papermill": {
     "duration": 0.068558,
     "end_time": "2021-12-02T02:28:22.975811",
     "exception": false,
     "start_time": "2021-12-02T02:28:22.907253",
     "status": "completed"
    },
    "tags": []
   },
   "source": [
    "### Playing a 100 roll game and analyzing the results\n"
   ]
  },
  {
   "cell_type": "code",
   "execution_count": 31,
   "id": "8e6ab22e",
   "metadata": {
    "execution": {
     "iopub.execute_input": "2021-12-02T02:28:23.117193Z",
     "iopub.status.busy": "2021-12-02T02:28:23.116558Z",
     "iopub.status.idle": "2021-12-02T02:28:23.144965Z",
     "shell.execute_reply": "2021-12-02T02:28:23.145444Z",
     "shell.execute_reply.started": "2021-12-02T02:27:21.403902Z"
    },
    "papermill": {
     "duration": 0.101248,
     "end_time": "2021-12-02T02:28:23.145624",
     "exception": false,
     "start_time": "2021-12-02T02:28:23.044376",
     "status": "completed"
    },
    "tags": []
   },
   "outputs": [],
   "source": [
    "# Let's play\n",
    "game_history = simulate_game()"
   ]
  },
  {
   "cell_type": "code",
   "execution_count": 32,
   "id": "d0d2556d",
   "metadata": {
    "execution": {
     "iopub.execute_input": "2021-12-02T02:28:23.284236Z",
     "iopub.status.busy": "2021-12-02T02:28:23.283538Z",
     "iopub.status.idle": "2021-12-02T02:28:23.314344Z",
     "shell.execute_reply": "2021-12-02T02:28:23.313723Z",
     "shell.execute_reply.started": "2021-12-02T02:27:21.452542Z"
    },
    "papermill": {
     "duration": 0.101427,
     "end_time": "2021-12-02T02:28:23.314489",
     "exception": false,
     "start_time": "2021-12-02T02:28:23.213062",
     "status": "completed"
    },
    "tags": []
   },
   "outputs": [
    {
     "data": {
      "text/html": [
       "<div>\n",
       "<style scoped>\n",
       "    .dataframe tbody tr th:only-of-type {\n",
       "        vertical-align: middle;\n",
       "    }\n",
       "\n",
       "    .dataframe tbody tr th {\n",
       "        vertical-align: top;\n",
       "    }\n",
       "\n",
       "    .dataframe thead th {\n",
       "        text-align: right;\n",
       "    }\n",
       "</style>\n",
       "<table border=\"1\" class=\"dataframe\">\n",
       "  <thead>\n",
       "    <tr style=\"text-align: right;\">\n",
       "      <th></th>\n",
       "      <th>0</th>\n",
       "      <th>1</th>\n",
       "      <th>2</th>\n",
       "      <th>3</th>\n",
       "      <th>4</th>\n",
       "      <th>5</th>\n",
       "      <th>6</th>\n",
       "      <th>7</th>\n",
       "      <th>8</th>\n",
       "      <th>9</th>\n",
       "      <th>...</th>\n",
       "      <th>90</th>\n",
       "      <th>91</th>\n",
       "      <th>92</th>\n",
       "      <th>93</th>\n",
       "      <th>94</th>\n",
       "      <th>95</th>\n",
       "      <th>96</th>\n",
       "      <th>97</th>\n",
       "      <th>98</th>\n",
       "      <th>99</th>\n",
       "    </tr>\n",
       "  </thead>\n",
       "  <tbody>\n",
       "    <tr>\n",
       "      <th>roll_result</th>\n",
       "      <td>4.0</td>\n",
       "      <td>7.0</td>\n",
       "      <td>11.0</td>\n",
       "      <td>5.0</td>\n",
       "      <td>10.0</td>\n",
       "      <td>11.0</td>\n",
       "      <td>6.0</td>\n",
       "      <td>7.0</td>\n",
       "      <td>7.0</td>\n",
       "      <td>8.0</td>\n",
       "      <td>...</td>\n",
       "      <td>8.0</td>\n",
       "      <td>10.0</td>\n",
       "      <td>4.0</td>\n",
       "      <td>12.0</td>\n",
       "      <td>6.0</td>\n",
       "      <td>7.0</td>\n",
       "      <td>3.0</td>\n",
       "      <td>4.0</td>\n",
       "      <td>5.0</td>\n",
       "      <td>10.0</td>\n",
       "    </tr>\n",
       "    <tr>\n",
       "      <th>net_worth</th>\n",
       "      <td>1000.0</td>\n",
       "      <td>980.0</td>\n",
       "      <td>990.0</td>\n",
       "      <td>990.0</td>\n",
       "      <td>990.0</td>\n",
       "      <td>1000.0</td>\n",
       "      <td>1000.0</td>\n",
       "      <td>910.0</td>\n",
       "      <td>920.0</td>\n",
       "      <td>920.0</td>\n",
       "      <td>...</td>\n",
       "      <td>866.0</td>\n",
       "      <td>876.0</td>\n",
       "      <td>926.0</td>\n",
       "      <td>916.0</td>\n",
       "      <td>916.0</td>\n",
       "      <td>866.0</td>\n",
       "      <td>856.0</td>\n",
       "      <td>856.0</td>\n",
       "      <td>856.0</td>\n",
       "      <td>856.0</td>\n",
       "    </tr>\n",
       "  </tbody>\n",
       "</table>\n",
       "<p>2 rows × 100 columns</p>\n",
       "</div>"
      ],
      "text/plain": [
       "                 0      1      2      3      4       5       6      7      8   \\\n",
       "roll_result     4.0    7.0   11.0    5.0   10.0    11.0     6.0    7.0    7.0   \n",
       "net_worth    1000.0  980.0  990.0  990.0  990.0  1000.0  1000.0  910.0  920.0   \n",
       "\n",
       "                9   ...     90     91     92     93     94     95     96  \\\n",
       "roll_result    8.0  ...    8.0   10.0    4.0   12.0    6.0    7.0    3.0   \n",
       "net_worth    920.0  ...  866.0  876.0  926.0  916.0  916.0  866.0  856.0   \n",
       "\n",
       "                97     98     99  \n",
       "roll_result    4.0    5.0   10.0  \n",
       "net_worth    856.0  856.0  856.0  \n",
       "\n",
       "[2 rows x 100 columns]"
      ]
     },
     "execution_count": 32,
     "metadata": {},
     "output_type": "execute_result"
    }
   ],
   "source": [
    "# Read into a dataframe\n",
    "df = pd.DataFrame(game_history)\n",
    "df.T"
   ]
  },
  {
   "cell_type": "code",
   "execution_count": 33,
   "id": "93cb0964",
   "metadata": {
    "execution": {
     "iopub.execute_input": "2021-12-02T02:28:23.481476Z",
     "iopub.status.busy": "2021-12-02T02:28:23.478366Z",
     "iopub.status.idle": "2021-12-02T02:28:23.727861Z",
     "shell.execute_reply": "2021-12-02T02:28:23.727259Z",
     "shell.execute_reply.started": "2021-12-02T02:27:21.490327Z"
    },
    "papermill": {
     "duration": 0.343782,
     "end_time": "2021-12-02T02:28:23.728050",
     "exception": false,
     "start_time": "2021-12-02T02:28:23.384268",
     "status": "completed"
    },
    "tags": []
   },
   "outputs": [
    {
     "data": {
      "image/png": "[encoded data removed]",
      "text/plain": [
       "<Figure size 864x288 with 1 Axes>"
      ]
     },
     "metadata": {
      "needs_background": "light"
     },
     "output_type": "display_data"
    }
   ],
   "source": [
    "fig, ax1 = plt.subplots(ncols=1, sharey=True, figsize=(12,4))\n",
    "_ = sns.lineplot(x=df.index, y='net_worth', data=df, ax=ax1).set(title='Simulation of the ThreePoint Molly')"
   ]
  },
  {
   "cell_type": "markdown",
   "id": "c7ce27e3",
   "metadata": {
    "papermill": {
     "duration": 0.070415,
     "end_time": "2021-12-02T02:28:23.869529",
     "exception": false,
     "start_time": "2021-12-02T02:28:23.799114",
     "status": "completed"
    },
    "tags": []
   },
   "source": [
    "## 4. Parallel Procesing with joblib\n",
    "\n",
    "Joblib is a fantastic library for parallel processing embarrassingly parallel workloads, which will work great for a monte carlo simulation."
   ]
  },
  {
   "cell_type": "code",
   "execution_count": 34,
   "id": "2ec1a100",
   "metadata": {
    "execution": {
     "iopub.execute_input": "2021-12-02T02:28:24.018195Z",
     "iopub.status.busy": "2021-12-02T02:28:24.017473Z",
     "iopub.status.idle": "2021-12-02T02:28:24.087306Z",
     "shell.execute_reply": "2021-12-02T02:28:24.086667Z",
     "shell.execute_reply.started": "2021-12-02T02:27:21.782587Z"
    },
    "papermill": {
     "duration": 0.14625,
     "end_time": "2021-12-02T02:28:24.087484",
     "exception": false,
     "start_time": "2021-12-02T02:28:23.941234",
     "status": "completed"
    },
    "tags": []
   },
   "outputs": [],
   "source": [
    "# Install joblib\n",
    "#!pip install joblib\n",
    "import joblib"
   ]
  },
  {
   "cell_type": "code",
   "execution_count": 35,
   "id": "fc3a55d1",
   "metadata": {
    "execution": {
     "iopub.execute_input": "2021-12-02T02:28:24.238656Z",
     "iopub.status.busy": "2021-12-02T02:28:24.237993Z",
     "iopub.status.idle": "2021-12-02T02:28:25.064160Z",
     "shell.execute_reply": "2021-12-02T02:28:25.063352Z",
     "shell.execute_reply.started": "2021-12-02T02:27:21.789120Z"
    },
    "papermill": {
     "duration": 0.90362,
     "end_time": "2021-12-02T02:28:25.064330",
     "exception": false,
     "start_time": "2021-12-02T02:28:24.160710",
     "status": "completed"
    },
    "tags": []
   },
   "outputs": [],
   "source": [
    "# Simulate 16 games, running 4 games at a time in parallel\n",
    "games = joblib.Parallel(n_jobs=4)(joblib.delayed(simulate_game)(**{'loglevel':40}) for i in range(16))"
   ]
  },
  {
   "cell_type": "code",
   "execution_count": 36,
   "id": "01c22cdb",
   "metadata": {
    "execution": {
     "iopub.execute_input": "2021-12-02T02:28:25.227576Z",
     "iopub.status.busy": "2021-12-02T02:28:25.226745Z",
     "iopub.status.idle": "2021-12-02T02:28:25.926080Z",
     "shell.execute_reply": "2021-12-02T02:28:25.926615Z",
     "shell.execute_reply.started": "2021-12-02T02:27:22.493857Z"
    },
    "papermill": {
     "duration": 0.787196,
     "end_time": "2021-12-02T02:28:25.926842",
     "exception": false,
     "start_time": "2021-12-02T02:28:25.139646",
     "status": "completed"
    },
    "tags": []
   },
   "outputs": [
    {
     "data": {
      "image/png": "[encoded data removed]",
      "text/plain": [
       "<Figure size 864x288 with 1 Axes>"
      ]
     },
     "metadata": {
      "needs_background": "light"
     },
     "output_type": "display_data"
    }
   ],
   "source": [
    "# Gather the results and plot the simulations. \n",
    "data = [pd.DataFrame(gh)['net_worth'] for gh in games]\n",
    "df   = pd.concat(data, axis=1)\n",
    "df.columns = [str(i) for i in range(len(df.columns))] # Change the column names\n",
    "df\n",
    "# Plot, make it pretty\n",
    "fig, ax1 = plt.subplots(ncols=1, sharey=True, figsize=(12,4))\n",
    "_ = sns.lineplot(data=df,\n",
    "                 ax=ax1).set(title='Simulation of the ThreePoint Molly 16 Times')\n",
    "\n",
    "\n"
   ]
  },
  {
   "cell_type": "code",
   "execution_count": null,
   "id": "408dfb36",
   "metadata": {
    "papermill": {
     "duration": 0.077192,
     "end_time": "2021-12-02T02:28:26.079167",
     "exception": false,
     "start_time": "2021-12-02T02:28:26.001975",
     "status": "completed"
    },
    "tags": []
   },
   "outputs": [],
   "source": []
  },
  {
   "cell_type": "code",
   "execution_count": null,
   "id": "a5cce1a0",
   "metadata": {
    "papermill": {
     "duration": 0.074376,
     "end_time": "2021-12-02T02:28:26.232306",
     "exception": false,
     "start_time": "2021-12-02T02:28:26.157930",
     "status": "completed"
    },
    "tags": []
   },
   "outputs": [],
   "source": []
  },
  {
   "cell_type": "code",
   "execution_count": null,
   "id": "f2a2e812",
   "metadata": {
    "papermill": {
     "duration": 0.073521,
     "end_time": "2021-12-02T02:28:26.381036",
     "exception": false,
     "start_time": "2021-12-02T02:28:26.307515",
     "status": "completed"
    },
    "tags": []
   },
   "outputs": [],
   "source": []
  },
  {
   "cell_type": "code",
   "execution_count": 37,
   "id": "92fd7fff",
   "metadata": {
    "execution": {
     "iopub.execute_input": "2021-12-02T02:28:26.531460Z",
     "iopub.status.busy": "2021-12-02T02:28:26.530733Z",
     "iopub.status.idle": "2021-12-02T02:28:26.534779Z",
     "shell.execute_reply": "2021-12-02T02:28:26.535301Z",
     "shell.execute_reply.started": "2021-12-02T02:27:23.305618Z"
    },
    "papermill": {
     "duration": 0.080945,
     "end_time": "2021-12-02T02:28:26.535468",
     "exception": false,
     "start_time": "2021-12-02T02:28:26.454523",
     "status": "completed"
    },
    "tags": []
   },
   "outputs": [],
   "source": [
    "df_ret = pd.DataFrame(df)"
   ]
  },
  {
   "cell_type": "code",
   "execution_count": null,
   "id": "8e432594",
   "metadata": {
    "papermill": {
     "duration": 0.072411,
     "end_time": "2021-12-02T02:28:26.680728",
     "exception": false,
     "start_time": "2021-12-02T02:28:26.608317",
     "status": "completed"
    },
    "tags": []
   },
   "outputs": [],
   "source": []
  }
 ],
 "metadata": {
  "kernelspec": {
   "display_name": "Python 3",
   "language": "python",
   "name": "python3"
  },
  "language_info": {
   "codemirror_mode": {
    "name": "ipython",
    "version": 3
   },
   "file_extension": ".py",
   "mimetype": "text/x-python",
   "name": "python",
   "nbconvert_exporter": "python",
   "pygments_lexer": "ipython3",
   "version": "3.7.10"
  },
  "papermill": {
   "default_parameters": {},
   "duration": 36.34688,
   "end_time": "2021-12-02T02:28:27.667920",
   "environment_variables": {},
   "exception": null,
   "input_path": "__notebook__.ipynb",
   "output_path": "__notebook__.ipynb",
   "parameters": {},
   "start_time": "2021-12-02T02:27:51.321040",
   "version": "2.3.3"
  }
 },
 "nbformat": 4,
 "nbformat_minor": 5
}
